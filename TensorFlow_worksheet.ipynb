{
  "nbformat": 4,
  "nbformat_minor": 0,
  "metadata": {
    "colab": {
      "name": "TensorFlow_worksheet.ipynb",
      "version": "0.3.2",
      "provenance": [],
      "collapsed_sections": [],
      "include_colab_link": true
    },
    "kernelspec": {
      "name": "python3",
      "display_name": "Python 3"
    },
    "accelerator": "GPU"
  },
  "cells": [
    {
      "cell_type": "markdown",
      "metadata": {
        "id": "view-in-github",
        "colab_type": "text"
      },
      "source": [
        "<a href=\"https://colab.research.google.com/github/SanthoshKJagadish/TensorFlowBasics/blob/master/TensorFlow_worksheet.ipynb\" target=\"_parent\"><img src=\"https://colab.research.google.com/assets/colab-badge.svg\" alt=\"Open In Colab\"/></a>"
      ]
    },
    {
      "cell_type": "markdown",
      "metadata": {
        "id": "Fzvf-If_ql5w",
        "colab_type": "text"
      },
      "source": [
        "## Tensorflow\n",
        "\n",
        "*   Open source library for graph based numerical computation - Computational graph\n",
        "*   Low and high level APIs - addition, multiplication and ML models\n",
        "*   TF 2.0 - Eager execution enabled by default, model building centerd around Keras and Estimators high level APIs  \n",
        "\n",
        "\n",
        "\n",
        "\n"
      ]
    },
    {
      "cell_type": "markdown",
      "metadata": {
        "id": "rLOlPu9bsK54",
        "colab_type": "text"
      },
      "source": [
        "#### Import tensorflow package"
      ]
    },
    {
      "cell_type": "code",
      "metadata": {
        "id": "UGpS7uaTP90V",
        "colab_type": "code",
        "colab": {}
      },
      "source": [
        "import tensorflow as tf\n",
        "#tf.enable_eager_execution()"
      ],
      "execution_count": 0,
      "outputs": []
    },
    {
      "cell_type": "markdown",
      "metadata": {
        "id": "_Jqnewgvr87R",
        "colab_type": "text"
      },
      "source": [
        "\n",
        "\n",
        "#### Defining 0D, 1D, 2D, 3D tensors - "
      ]
    },
    {
      "cell_type": "code",
      "metadata": {
        "id": "bRTnnkyLr7lH",
        "colab_type": "code",
        "colab": {}
      },
      "source": [
        "#0D Tensor\n",
        "d0 = tf.ones((1,))\n",
        "\n",
        "#1D Tensor\n",
        "d1 = tf.ones((2,))\n",
        "\n",
        "#2D Tensor\n",
        "d2 = tf.ones((2,2))\n",
        "\n",
        "#3D Tensor\n",
        "d3 = tf.ones((2,2,2))\n"
      ],
      "execution_count": 0,
      "outputs": []
    },
    {
      "cell_type": "code",
      "metadata": {
        "id": "udGvtZXivszO",
        "colab_type": "code",
        "colab": {}
      },
      "source": [
        "#print(d0.numpy())\n",
        "#print()\n",
        "\n",
        "#print(d1.numpy())\n",
        "#print() \n",
        "\n",
        "#print(d2.numpy())\n",
        "#print()\n",
        "\n",
        "#print(d3.numpy())"
      ],
      "execution_count": 0,
      "outputs": []
    },
    {
      "cell_type": "markdown",
      "metadata": {
        "id": "B2ncZA0kkm6Y",
        "colab_type": "text"
      },
      "source": [
        "## *1. Constant* \n",
        "\n",
        "- A type of node that can take no inputs, but output values that are stored internally\n",
        "\n",
        "*   Cannot be used for re-training\n",
        "*   Can have any dimension\n",
        "\n",
        "\n",
        "\n"
      ]
    },
    {
      "cell_type": "code",
      "metadata": {
        "id": "IArtjGg_QWnF",
        "colab_type": "code",
        "colab": {
          "base_uri": "https://localhost:8080/",
          "height": 34
        },
        "outputId": "0197e20a-b584-47ec-ec36-d68004911b80"
      },
      "source": [
        "# Example 1\n",
        "\n",
        "node1 = tf.constant(3.0, tf.float32)\n",
        "node2 = tf.constant(4.0)\n",
        "\n",
        "print(node1, node2)"
      ],
      "execution_count": 5,
      "outputs": [
        {
          "output_type": "stream",
          "text": [
            "Tensor(\"Const:0\", shape=(), dtype=float32) Tensor(\"Const_1:0\", shape=(), dtype=float32)\n"
          ],
          "name": "stdout"
        }
      ]
    },
    {
      "cell_type": "code",
      "metadata": {
        "id": "2CtJPwuozf2L",
        "colab_type": "code",
        "colab": {
          "base_uri": "https://localhost:8080/",
          "height": 34
        },
        "outputId": "f8c18e16-0467-4b5d-bd8d-f802010f23a8"
      },
      "source": [
        "# Example 2 - 2x3 constant\n",
        "\n",
        "a = tf.constant(3, shape = [2,3])\n",
        "print(a)"
      ],
      "execution_count": 6,
      "outputs": [
        {
          "output_type": "stream",
          "text": [
            "Tensor(\"Const_2:0\", shape=(2, 3), dtype=int32)\n"
          ],
          "name": "stdout"
        }
      ]
    },
    {
      "cell_type": "code",
      "metadata": {
        "id": "yAaiLDy60qtn",
        "colab_type": "code",
        "colab": {
          "base_uri": "https://localhost:8080/",
          "height": 34
        },
        "outputId": "e246ec74-b51b-4fb3-f887-ec8cb48175ed"
      },
      "source": [
        "# Example 3 - 2x2 constant\n",
        "\n",
        "b = tf.constant([1,2,3,4], shape = [2,2])\n",
        "print(b)"
      ],
      "execution_count": 7,
      "outputs": [
        {
          "output_type": "stream",
          "text": [
            "Tensor(\"Const_3:0\", shape=(2, 2), dtype=int32)\n"
          ],
          "name": "stdout"
        }
      ]
    },
    {
      "cell_type": "markdown",
      "metadata": {
        "id": "mdcPpuqK1mV3",
        "colab_type": "text"
      },
      "source": [
        "#### Other types of constants \n",
        "\n",
        "tf.constant()          ------        tf. constant([1,2,3,4])\n",
        "\n",
        "```\n",
        "```\n",
        "\n",
        "\n",
        "tf.zeros()                ------        tf.zeros([2,2]) \n",
        "\n",
        "\n",
        "```\n",
        "```\n",
        "\n",
        "tf.zeros_like()        ------        tf.zeros_like(copying size of input tensor)\n",
        "\n",
        "\n",
        "```\n",
        "```\n",
        "\n",
        "\n",
        "tf.ones()                 ------        tf.ones([2,2])\n",
        "```\n",
        "```\n",
        "tf.ones_like()         ------        tf.ones_like(copying size of input tensor)\n",
        "\n",
        "\n",
        "```\n",
        "```\n",
        "\n",
        "\n",
        "tf.fill()                      ------       tf.fill([3,3], 7)"
      ]
    },
    {
      "cell_type": "markdown",
      "metadata": {
        "id": "NLo-hGxlk5YW",
        "colab_type": "text"
      },
      "source": [
        "## *2. Placeholder*\n",
        "\n",
        "- A placeholder is to accept an external value when provided.\n",
        "- Eager execution is not possible. Rerun as graph mode instead of eager execution mode"
      ]
    },
    {
      "cell_type": "code",
      "metadata": {
        "id": "OmKuJghDkiRZ",
        "colab_type": "code",
        "colab": {
          "base_uri": "https://localhost:8080/",
          "height": 34
        },
        "outputId": "7d847702-8375-4de7-a001-99b288fd2b68"
      },
      "source": [
        "a = tf.placeholder(tf.float32)\n",
        "b = tf.placeholder(tf.float32)\n",
        "\n",
        "add_node = a+b\n",
        "\n",
        "add_session = tf.Session()\n",
        "\n",
        "add_session.run(add_node, {a:[1,3], b:[2,4]})"
      ],
      "execution_count": 8,
      "outputs": [
        {
          "output_type": "execute_result",
          "data": {
            "text/plain": [
              "array([3., 7.], dtype=float32)"
            ]
          },
          "metadata": {
            "tags": []
          },
          "execution_count": 8
        }
      ]
    },
    {
      "cell_type": "markdown",
      "metadata": {
        "id": "LAmdGHtTmkfT",
        "colab_type": "text"
      },
      "source": [
        "## *3. Variables* \n",
        "\n",
        "- Variables allow us to add trainable parameters to a graph\n",
        "\n",
        "*   Data type and shape are fixed\n",
        "*   Can add new values to the variables as input\n",
        "*   Can be used for training and modifying graph\n",
        "\n",
        "\n",
        "\n"
      ]
    },
    {
      "cell_type": "code",
      "metadata": {
        "id": "NkGLC5zv5JyO",
        "colab_type": "code",
        "colab": {
          "base_uri": "https://localhost:8080/",
          "height": 34
        },
        "outputId": "6ce3ab22-7802-402f-b3f5-6badc615bbef"
      },
      "source": [
        "# Example 1\n",
        "\n",
        "# y = wX+b\n",
        "\n",
        "w = tf.Variable([.3], tf.float32) #need to vary as per optimization\n",
        "b = tf.Variable([-.3], tf.float32) #need to vary as per optimization \n",
        "X = tf.placeholder(tf.float32)\n",
        "\n",
        "linearEQ = w*X + b\n",
        "\n",
        "# Initialization of Variables\n",
        "\n",
        "init = tf.global_variables_initializer()\n",
        "\n",
        "# Start session \n",
        "\n",
        "sessionTF = tf.Session()\n",
        "\n",
        "sessionTF.run(init)\n",
        "\n",
        "sessionTF.run(linearEQ, {X:[1,2,3,4]})"
      ],
      "execution_count": 9,
      "outputs": [
        {
          "output_type": "execute_result",
          "data": {
            "text/plain": [
              "array([0.        , 0.3       , 0.6       , 0.90000004], dtype=float32)"
            ]
          },
          "metadata": {
            "tags": []
          },
          "execution_count": 9
        }
      ]
    },
    {
      "cell_type": "code",
      "metadata": {
        "id": "58vaObZpUtx9",
        "colab_type": "code",
        "colab": {
          "base_uri": "https://localhost:8080/",
          "height": 34
        },
        "outputId": "0ffa3711-f5c7-4429-e2c1-0ee479e72841"
      },
      "source": [
        "# Continuation of Ex 1 - calculation of loss\n",
        "\n",
        "y = tf.placeholder(tf.float32)\n",
        "\n",
        "squareError = tf.square(linearEQ - y)\n",
        "\n",
        "squareLoss = tf.reduce_sum(squareError)\n",
        "\n",
        "print(sessionTF.run(squareLoss, {X:[1,2,3,4], y:[3,5,-6,10]}))"
      ],
      "execution_count": 10,
      "outputs": [
        {
          "output_type": "stream",
          "text": [
            "157.46\n"
          ],
          "name": "stdout"
        }
      ]
    },
    {
      "cell_type": "code",
      "metadata": {
        "id": "yPIUsMeqNlat",
        "colab_type": "code",
        "colab": {
          "base_uri": "https://localhost:8080/",
          "height": 34
        },
        "outputId": "174d4a1f-8f21-46eb-848c-eb4d9953cc13"
      },
      "source": [
        "# Continuation of Ex 1 - Build gradients to optimize outcome (Gradient Descent)\n",
        "\n",
        "opt = tf.train.GradientDescentOptimizer(0.01)  # Include learning rate -> 0.01\n",
        "\n",
        "ObjectiveOfTrainFunction = opt.minimize(squareLoss)\n",
        "\n",
        "for i in range(1000):\n",
        "  sessionTF.run(ObjectiveOfTrainFunction, {X:[1,2,3,4], y:[3,5,-6,10]})\n",
        "  \n",
        "print(sessionTF.run([w,b]))"
      ],
      "execution_count": 18,
      "outputs": [
        {
          "output_type": "stream",
          "text": [
            "[array([1.0000011], dtype=float32), 2.0]\n"
          ],
          "name": "stdout"
        }
      ]
    },
    {
      "cell_type": "code",
      "metadata": {
        "id": "y09vlxIuKXAf",
        "colab_type": "code",
        "colab": {
          "base_uri": "https://localhost:8080/",
          "height": 51
        },
        "outputId": "042b3d1c-f721-4fc4-f824-f912477a49ac"
      },
      "source": [
        "# Example 2\n",
        "\n",
        "a0 = tf.Variable([1,2,3,4], dtype = tf.float32)\n",
        "a1 = tf.Variable([5,6,7,8], tf.int16)\n",
        "\n",
        "b = tf.constant(2.0, tf.float32)\n",
        "\n",
        "# Compute product\n",
        "\n",
        "c0 = a0*b\n",
        "c1 = tf.multiply(a0,b)\n",
        "\n",
        "print(c0)\n",
        "print(c1)"
      ],
      "execution_count": 21,
      "outputs": [
        {
          "output_type": "stream",
          "text": [
            "Tensor(\"mul_3:0\", shape=(4,), dtype=float32)\n",
            "Tensor(\"Mul_4:0\", shape=(4,), dtype=float32)\n"
          ],
          "name": "stdout"
        }
      ]
    },
    {
      "cell_type": "code",
      "metadata": {
        "id": "LPFE_05XO0Ey",
        "colab_type": "code",
        "colab": {
          "base_uri": "https://localhost:8080/",
          "height": 34
        },
        "outputId": "9cdc1841-e01a-499d-a276-b9a3665ed030"
      },
      "source": [
        "print(a0)"
      ],
      "execution_count": 22,
      "outputs": [
        {
          "output_type": "stream",
          "text": [
            "<tf.Variable 'Variable_4:0' shape=(4,) dtype=float32_ref>\n"
          ],
          "name": "stdout"
        }
      ]
    },
    {
      "cell_type": "markdown",
      "metadata": {
        "id": "oOERxScxseW3",
        "colab_type": "text"
      },
      "source": [
        "## Tensor Flow Operations \n",
        "\n",
        "- Tensor Flow has a model of computation that revolves around graphs. \n",
        "- The tensors sit on edges and tensor flow operations work on nodes\n",
        "\n",
        "\n",
        "*   Add - Add\n",
        "*   Multiply - MatMul\n",
        "\n"
      ]
    },
    {
      "cell_type": "markdown",
      "metadata": {
        "id": "AQiy1Dk32hqa",
        "colab_type": "text"
      },
      "source": [
        "#### Add Operator - add()\n",
        "\n",
        "\n",
        "*   add() performers element wise addition with two tensors\n",
        "*   Element wise addition requires both tensors to have same shape\n",
        "*   The add() operator is overloaded\n",
        "\n"
      ]
    },
    {
      "cell_type": "code",
      "metadata": {
        "id": "ng-MrLeoNQcA",
        "colab_type": "code",
        "colab": {
          "base_uri": "https://localhost:8080/",
          "height": 119
        },
        "outputId": "1c4cab28-6b6a-4a9b-9d9b-4e01b357c0fb"
      },
      "source": [
        "# Example for Add()\n",
        "\n",
        "from tensorflow import constant, add, Session\n",
        "\n",
        "# 0D Tensors\n",
        "\n",
        "A0 = constant([1])\n",
        "B0 = constant([2])\n",
        "\n",
        "#1D Tensors\n",
        "\n",
        "A1 = constant([1,2])\n",
        "B1 = constant([3,4])\n",
        "\n",
        "#2D Tensors\n",
        "\n",
        "A2 = constant([[1,2], [3,4]])\n",
        "B2 = constant([[5,6], [7,8]])\n",
        "\n",
        "\n",
        "c0 = add(A0,B0)\n",
        "c1 = add(A1,B1)\n",
        "c2 = add(A2,B2)\n",
        "\n",
        "sessionTF = Session()\n",
        "\n",
        "print(sessionTF.run(c0))\n",
        "print()\n",
        "\n",
        "print(sessionTF.run(c1))\n",
        "print()\n",
        "\n",
        "print(sessionTF.run(c2))"
      ],
      "execution_count": 17,
      "outputs": [
        {
          "output_type": "stream",
          "text": [
            "[3]\n",
            "\n",
            "[4 6]\n",
            "\n",
            "[[ 6  8]\n",
            " [10 12]]\n"
          ],
          "name": "stdout"
        }
      ]
    },
    {
      "cell_type": "markdown",
      "metadata": {
        "id": "eJ6rqcvq4ebZ",
        "colab_type": "text"
      },
      "source": [
        "#### Multiply Operator - matmul(), multiply()\n",
        "\n",
        "\n",
        "*   matmul() performers matrix wise multiplication with two tensors\n",
        "*   multiply() performs element wise multiplication with two tensors\n",
        "*   matrix wise multiplication requires number of columns in tensor 1 equal to number of rows in tensor 2"
      ]
    },
    {
      "cell_type": "code",
      "metadata": {
        "id": "cCQL86Ll29vr",
        "colab_type": "code",
        "colab": {
          "base_uri": "https://localhost:8080/",
          "height": 204
        },
        "outputId": "f9e41002-2002-4f71-9f6e-a0558820ba05"
      },
      "source": [
        "# Example for matmul()\n",
        "\n",
        "from tensorflow import ones, matmul, multiply\n",
        "\n",
        "\n",
        "# Define tensors\n",
        "\n",
        "A0 = ones(1)\n",
        "A31 = ones([3,1])\n",
        "A34 = ones([3,4])\n",
        "A43 = ones([4,3])\n",
        "\n",
        "\n",
        "b0 = multiply(A0,A0)\n",
        "print(sessionTF.run(b0))\n",
        "print()\n",
        "\n",
        "b31 = multiply(A31,A31)\n",
        "print(sessionTF.run(b31))\n",
        "print()\n",
        "\n",
        "b4334 = matmul(A43, A34)\n",
        "print(sessionTF.run(b4334))\n",
        "print()"
      ],
      "execution_count": 16,
      "outputs": [
        {
          "output_type": "stream",
          "text": [
            "[1.]\n",
            "\n",
            "[[1.]\n",
            " [1.]\n",
            " [1.]]\n",
            "\n",
            "[[3. 3. 3. 3.]\n",
            " [3. 3. 3. 3.]\n",
            " [3. 3. 3. 3.]\n",
            " [3. 3. 3. 3.]]\n",
            "\n"
          ],
          "name": "stdout"
        }
      ]
    },
    {
      "cell_type": "code",
      "metadata": {
        "id": "LH-uUuuhGQcy",
        "colab_type": "code",
        "colab": {}
      },
      "source": [
        ""
      ],
      "execution_count": 0,
      "outputs": []
    }
  ]
}