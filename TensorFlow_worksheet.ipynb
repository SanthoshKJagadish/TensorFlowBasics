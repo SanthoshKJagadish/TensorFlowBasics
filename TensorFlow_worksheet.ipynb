{
  "nbformat": 4,
  "nbformat_minor": 0,
  "metadata": {
    "colab": {
      "name": "TensorFlow_worksheet.ipynb",
      "version": "0.3.2",
      "provenance": [],
      "collapsed_sections": [],
      "toc_visible": true,
      "include_colab_link": true
    },
    "kernelspec": {
      "name": "python3",
      "display_name": "Python 3"
    },
    "accelerator": "GPU"
  },
  "cells": [
    {
      "cell_type": "markdown",
      "metadata": {
        "id": "view-in-github",
        "colab_type": "text"
      },
      "source": [
        "<a href=\"https://colab.research.google.com/github/SanthoshKJagadish/TensorFlowBasics/blob/master/TensorFlow_worksheet.ipynb\" target=\"_parent\"><img src=\"https://colab.research.google.com/assets/colab-badge.svg\" alt=\"Open In Colab\"/></a>"
      ]
    },
    {
      "cell_type": "markdown",
      "metadata": {
        "id": "Fzvf-If_ql5w",
        "colab_type": "text"
      },
      "source": [
        "## Tensorflow\n",
        "\n",
        "*   Open source library for graph based numerical computation - Computational graph\n",
        "*   Low and high level APIs - addition, multiplication and ML models\n",
        "*   TF 2.0 - Eager execution enabled by default, model building centerd around Keras and Estimators high level APIs  \n",
        "\n",
        "\n",
        "\n",
        "\n"
      ]
    },
    {
      "cell_type": "markdown",
      "metadata": {
        "id": "rLOlPu9bsK54",
        "colab_type": "text"
      },
      "source": [
        "#### Import tensorflow package"
      ]
    },
    {
      "cell_type": "code",
      "metadata": {
        "id": "UGpS7uaTP90V",
        "colab_type": "code",
        "colab": {}
      },
      "source": [
        "import tensorflow as tf\n",
        "#tf.enable_eager_execution()"
      ],
      "execution_count": 0,
      "outputs": []
    },
    {
      "cell_type": "markdown",
      "metadata": {
        "id": "_Jqnewgvr87R",
        "colab_type": "text"
      },
      "source": [
        "\n",
        "\n",
        "#### Defining 0D, 1D, 2D, 3D tensors - "
      ]
    },
    {
      "cell_type": "code",
      "metadata": {
        "id": "bRTnnkyLr7lH",
        "colab_type": "code",
        "colab": {}
      },
      "source": [
        "#0D Tensor\n",
        "d0 = tf.ones((1,))\n",
        "\n",
        "#1D Tensor\n",
        "d1 = tf.ones((2,))\n",
        "\n",
        "#2D Tensor\n",
        "d2 = tf.ones((2,2))\n",
        "\n",
        "#3D Tensor\n",
        "d3 = tf.ones((2,2,2))\n"
      ],
      "execution_count": 0,
      "outputs": []
    },
    {
      "cell_type": "code",
      "metadata": {
        "id": "udGvtZXivszO",
        "colab_type": "code",
        "colab": {}
      },
      "source": [
        "#print(d0.numpy())\n",
        "#print()\n",
        "\n",
        "#print(d1.numpy())\n",
        "#print() \n",
        "\n",
        "#print(d2.numpy())\n",
        "#print()\n",
        "\n",
        "#print(d3.numpy())"
      ],
      "execution_count": 0,
      "outputs": []
    },
    {
      "cell_type": "markdown",
      "metadata": {
        "id": "B2ncZA0kkm6Y",
        "colab_type": "text"
      },
      "source": [
        "## *1. Constant* \n",
        "\n",
        "- A type of node that can take no inputs, but output values that are stored internally\n",
        "\n",
        "*   Cannot be used for re-training\n",
        "*   Can have any dimension\n",
        "\n",
        "\n",
        "\n"
      ]
    },
    {
      "cell_type": "code",
      "metadata": {
        "id": "IArtjGg_QWnF",
        "colab_type": "code",
        "outputId": "0197e20a-b584-47ec-ec36-d68004911b80",
        "colab": {
          "base_uri": "https://localhost:8080/",
          "height": 34
        }
      },
      "source": [
        "# Example 1\n",
        "\n",
        "node1 = tf.constant(3.0, tf.float32)\n",
        "node2 = tf.constant(4.0)\n",
        "\n",
        "print(node1, node2)"
      ],
      "execution_count": 0,
      "outputs": [
        {
          "output_type": "stream",
          "text": [
            "Tensor(\"Const:0\", shape=(), dtype=float32) Tensor(\"Const_1:0\", shape=(), dtype=float32)\n"
          ],
          "name": "stdout"
        }
      ]
    },
    {
      "cell_type": "code",
      "metadata": {
        "id": "2CtJPwuozf2L",
        "colab_type": "code",
        "outputId": "f8c18e16-0467-4b5d-bd8d-f802010f23a8",
        "colab": {
          "base_uri": "https://localhost:8080/",
          "height": 34
        }
      },
      "source": [
        "# Example 2 - 2x3 constant\n",
        "\n",
        "a = tf.constant(3, shape = [2,3])\n",
        "print(a)"
      ],
      "execution_count": 0,
      "outputs": [
        {
          "output_type": "stream",
          "text": [
            "Tensor(\"Const_2:0\", shape=(2, 3), dtype=int32)\n"
          ],
          "name": "stdout"
        }
      ]
    },
    {
      "cell_type": "code",
      "metadata": {
        "id": "yAaiLDy60qtn",
        "colab_type": "code",
        "outputId": "e246ec74-b51b-4fb3-f887-ec8cb48175ed",
        "colab": {
          "base_uri": "https://localhost:8080/",
          "height": 34
        }
      },
      "source": [
        "# Example 3 - 2x2 constant\n",
        "\n",
        "b = tf.constant([1,2,3,4], shape = [2,2])\n",
        "print(b)"
      ],
      "execution_count": 0,
      "outputs": [
        {
          "output_type": "stream",
          "text": [
            "Tensor(\"Const_3:0\", shape=(2, 2), dtype=int32)\n"
          ],
          "name": "stdout"
        }
      ]
    },
    {
      "cell_type": "markdown",
      "metadata": {
        "id": "mdcPpuqK1mV3",
        "colab_type": "text"
      },
      "source": [
        "#### Other types of constants \n",
        "\n",
        "tf.constant()          ------        tf. constant([1,2,3,4])\n",
        "\n",
        "```\n",
        "```\n",
        "\n",
        "\n",
        "tf.zeros()                ------        tf.zeros([2,2]) \n",
        "\n",
        "\n",
        "```\n",
        "```\n",
        "\n",
        "tf.zeros_like()        ------        tf.zeros_like(copying size of input tensor)\n",
        "\n",
        "\n",
        "```\n",
        "```\n",
        "\n",
        "\n",
        "tf.ones()                 ------        tf.ones([2,2])\n",
        "```\n",
        "```\n",
        "tf.ones_like()         ------        tf.ones_like(copying size of input tensor)\n",
        "\n",
        "\n",
        "```\n",
        "```\n",
        "\n",
        "\n",
        "tf.fill()                      ------       tf.fill([3,3], 7)"
      ]
    },
    {
      "cell_type": "markdown",
      "metadata": {
        "id": "NLo-hGxlk5YW",
        "colab_type": "text"
      },
      "source": [
        "## *2. Placeholder*\n",
        "\n",
        "- A placeholder is to accept an external value when provided.\n",
        "- Eager execution is not possible. Rerun as graph mode instead of eager execution mode"
      ]
    },
    {
      "cell_type": "code",
      "metadata": {
        "id": "OmKuJghDkiRZ",
        "colab_type": "code",
        "outputId": "7d847702-8375-4de7-a001-99b288fd2b68",
        "colab": {
          "base_uri": "https://localhost:8080/",
          "height": 34
        }
      },
      "source": [
        "a = tf.placeholder(tf.float32)\n",
        "b = tf.placeholder(tf.float32)\n",
        "\n",
        "add_node = a+b\n",
        "\n",
        "add_session = tf.Session()\n",
        "\n",
        "add_session.run(add_node, {a:[1,3], b:[2,4]})"
      ],
      "execution_count": 0,
      "outputs": [
        {
          "output_type": "execute_result",
          "data": {
            "text/plain": [
              "array([3., 7.], dtype=float32)"
            ]
          },
          "metadata": {
            "tags": []
          },
          "execution_count": 8
        }
      ]
    },
    {
      "cell_type": "markdown",
      "metadata": {
        "id": "LAmdGHtTmkfT",
        "colab_type": "text"
      },
      "source": [
        "## *3. Variables* \n",
        "\n",
        "- Variables allow us to add trainable parameters to a graph\n",
        "\n",
        "*   Data type and shape are fixed\n",
        "*   Can add new values to the variables as input\n",
        "*   Can be used for training and modifying graph\n",
        "\n",
        "\n",
        "\n"
      ]
    },
    {
      "cell_type": "code",
      "metadata": {
        "id": "NkGLC5zv5JyO",
        "colab_type": "code",
        "outputId": "3517533f-b308-4ac1-ec4a-c897f4881c84",
        "colab": {
          "base_uri": "https://localhost:8080/",
          "height": 34
        }
      },
      "source": [
        "# Example 1\n",
        "\n",
        "# y = wX+b\n",
        "\n",
        "w = tf.Variable([.3], tf.float32) #need to vary as per optimization\n",
        "b = tf.Variable([-.3], tf.float32) #need to vary as per optimization \n",
        "X = tf.placeholder(tf.float32)\n",
        "\n",
        "linearEQ = w*X + b\n",
        "\n",
        "# Initialization of Variables\n",
        "\n",
        "init = tf.global_variables_initializer()\n",
        "\n",
        "# Start session \n",
        "\n",
        "sessionTF = tf.Session()\n",
        "\n",
        "sessionTF.run(init)\n",
        "\n",
        "sessionTF.run(linearEQ, {X:[1,2,3,4]})"
      ],
      "execution_count": 0,
      "outputs": [
        {
          "output_type": "execute_result",
          "data": {
            "text/plain": [
              "array([0.        , 0.3       , 0.6       , 0.90000004], dtype=float32)"
            ]
          },
          "metadata": {
            "tags": []
          },
          "execution_count": 11
        }
      ]
    },
    {
      "cell_type": "code",
      "metadata": {
        "id": "58vaObZpUtx9",
        "colab_type": "code",
        "outputId": "0ffa3711-f5c7-4429-e2c1-0ee479e72841",
        "colab": {
          "base_uri": "https://localhost:8080/",
          "height": 34
        }
      },
      "source": [
        "# Continuation of Ex 1 - calculation of loss\n",
        "\n",
        "y = tf.placeholder(tf.float32)\n",
        "\n",
        "squareError = tf.square(linearEQ - y)\n",
        "\n",
        "squareLoss = tf.reduce_sum(squareError)\n",
        "\n",
        "print(sessionTF.run(squareLoss, {X:[1,2,3,4], y:[3,5,-6,10]}))"
      ],
      "execution_count": 0,
      "outputs": [
        {
          "output_type": "stream",
          "text": [
            "157.46\n"
          ],
          "name": "stdout"
        }
      ]
    },
    {
      "cell_type": "code",
      "metadata": {
        "id": "yPIUsMeqNlat",
        "colab_type": "code",
        "outputId": "174d4a1f-8f21-46eb-848c-eb4d9953cc13",
        "colab": {
          "base_uri": "https://localhost:8080/",
          "height": 34
        }
      },
      "source": [
        "# Continuation of Ex 1 - Build gradients to optimize outcome (Gradient Descent)\n",
        "\n",
        "opt = tf.train.GradientDescentOptimizer(0.01)  # Include learning rate -> 0.01\n",
        "\n",
        "ObjectiveOfTrainFunction = opt.minimize(squareLoss)\n",
        "\n",
        "for i in range(1000):\n",
        "  sessionTF.run(ObjectiveOfTrainFunction, {X:[1,2,3,4], y:[3,5,-6,10]})\n",
        "  \n",
        "print(sessionTF.run([w,b]))"
      ],
      "execution_count": 0,
      "outputs": [
        {
          "output_type": "stream",
          "text": [
            "[array([1.0000011], dtype=float32), 2.0]\n"
          ],
          "name": "stdout"
        }
      ]
    },
    {
      "cell_type": "code",
      "metadata": {
        "id": "y09vlxIuKXAf",
        "colab_type": "code",
        "outputId": "042b3d1c-f721-4fc4-f824-f912477a49ac",
        "colab": {
          "base_uri": "https://localhost:8080/",
          "height": 51
        }
      },
      "source": [
        "# Example 2\n",
        "\n",
        "a0 = tf.Variable([1,2,3,4], dtype = tf.float32)\n",
        "a1 = tf.Variable([5,6,7,8], tf.int16)\n",
        "\n",
        "b = tf.constant(2.0, tf.float32)\n",
        "\n",
        "# Compute product\n",
        "\n",
        "c0 = a0*b\n",
        "c1 = tf.multiply(a0,b)\n",
        "\n",
        "print(c0)\n",
        "print(c1)"
      ],
      "execution_count": 0,
      "outputs": [
        {
          "output_type": "stream",
          "text": [
            "Tensor(\"mul_3:0\", shape=(4,), dtype=float32)\n",
            "Tensor(\"Mul_4:0\", shape=(4,), dtype=float32)\n"
          ],
          "name": "stdout"
        }
      ]
    },
    {
      "cell_type": "code",
      "metadata": {
        "id": "LPFE_05XO0Ey",
        "colab_type": "code",
        "outputId": "9cdc1841-e01a-499d-a276-b9a3665ed030",
        "colab": {
          "base_uri": "https://localhost:8080/",
          "height": 34
        }
      },
      "source": [
        "print(a0)"
      ],
      "execution_count": 0,
      "outputs": [
        {
          "output_type": "stream",
          "text": [
            "<tf.Variable 'Variable_4:0' shape=(4,) dtype=float32_ref>\n"
          ],
          "name": "stdout"
        }
      ]
    },
    {
      "cell_type": "markdown",
      "metadata": {
        "id": "p9YoknQZa6un",
        "colab_type": "text"
      },
      "source": [
        "## Example to show how multi dimenional arrays work in python\n",
        "\n"
      ]
    },
    {
      "cell_type": "code",
      "metadata": {
        "id": "bsLyiNfjeDV7",
        "colab_type": "code",
        "outputId": "212612de-9edd-4671-d828-110486146374",
        "colab": {
          "base_uri": "https://localhost:8080/",
          "height": 170
        }
      },
      "source": [
        "import numpy as np\n",
        "\n",
        "a = np.array([[[1,2,3],[2,3,4]],[[4,5,6],[5,6,7]]])\n",
        "\n",
        "print(a.shape)\n",
        "print()\n",
        "\n",
        "print(a)\n",
        "print()\n",
        "\n",
        "print(a[0,1,0])"
      ],
      "execution_count": 0,
      "outputs": [
        {
          "output_type": "stream",
          "text": [
            "(2, 2, 3)\n",
            "\n",
            "[[[1 2 3]\n",
            "  [2 3 4]]\n",
            "\n",
            " [[4 5 6]\n",
            "  [5 6 7]]]\n",
            "\n",
            "2\n"
          ],
          "name": "stdout"
        }
      ]
    },
    {
      "cell_type": "markdown",
      "metadata": {
        "id": "oOERxScxseW3",
        "colab_type": "text"
      },
      "source": [
        "## Tensor Flow Operations \n",
        "\n",
        "- Tensor Flow has a model of computation that revolves around graphs. \n",
        "- The tensors sit on edges and tensor flow operations work on nodes\n",
        "\n",
        "\n",
        "*   Add - add()\n",
        "*   Multiply - multiply(), matmul()\n",
        "*   Summing over tensor dimensions - reduce_sum(tensor, dimension)\n",
        "\n"
      ]
    },
    {
      "cell_type": "markdown",
      "metadata": {
        "id": "AQiy1Dk32hqa",
        "colab_type": "text"
      },
      "source": [
        "#### Add Operator - add()\n",
        "\n",
        "\n",
        "*   add() performers element wise addition with two tensors\n",
        "*   Element wise addition requires both tensors to have same shape\n",
        "*   The add() operator is overloaded\n",
        "\n"
      ]
    },
    {
      "cell_type": "code",
      "metadata": {
        "id": "ng-MrLeoNQcA",
        "colab_type": "code",
        "outputId": "1c4cab28-6b6a-4a9b-9d9b-4e01b357c0fb",
        "colab": {
          "base_uri": "https://localhost:8080/",
          "height": 119
        }
      },
      "source": [
        "# Example for Add()\n",
        "\n",
        "from tensorflow import constant, add, Session\n",
        "\n",
        "# 0D Tensors\n",
        "\n",
        "A0 = constant([1])\n",
        "B0 = constant([2])\n",
        "\n",
        "#1D Tensors\n",
        "\n",
        "A1 = constant([1,2])\n",
        "B1 = constant([3,4])\n",
        "\n",
        "#2D Tensors\n",
        "\n",
        "A2 = constant([[1,2], [3,4]])\n",
        "B2 = constant([[5,6], [7,8]])\n",
        "\n",
        "\n",
        "c0 = add(A0,B0)\n",
        "c1 = add(A1,B1)\n",
        "c2 = add(A2,B2)\n",
        "\n",
        "sessionTF = Session()\n",
        "\n",
        "print(sessionTF.run(c0))\n",
        "print()\n",
        "\n",
        "print(sessionTF.run(c1))\n",
        "print()\n",
        "\n",
        "print(sessionTF.run(c2))"
      ],
      "execution_count": 0,
      "outputs": [
        {
          "output_type": "stream",
          "text": [
            "[3]\n",
            "\n",
            "[4 6]\n",
            "\n",
            "[[ 6  8]\n",
            " [10 12]]\n"
          ],
          "name": "stdout"
        }
      ]
    },
    {
      "cell_type": "markdown",
      "metadata": {
        "id": "eJ6rqcvq4ebZ",
        "colab_type": "text"
      },
      "source": [
        "#### Multiply Operator - matmul(), multiply()\n",
        "\n",
        "\n",
        "*   matmul() performers matrix wise multiplication with two tensors\n",
        "*   multiply() performs element wise multiplication with two tensors\n",
        "*   matrix wise multiplication requires number of columns in tensor 1 equal to number of rows in tensor 2"
      ]
    },
    {
      "cell_type": "code",
      "metadata": {
        "id": "cCQL86Ll29vr",
        "colab_type": "code",
        "outputId": "f9e41002-2002-4f71-9f6e-a0558820ba05",
        "colab": {
          "base_uri": "https://localhost:8080/",
          "height": 204
        }
      },
      "source": [
        "# Example for matmul()\n",
        "\n",
        "from tensorflow import ones, matmul, multiply\n",
        "\n",
        "\n",
        "# Define tensors\n",
        "\n",
        "A0 = ones(1)\n",
        "A31 = ones([3,1])\n",
        "A34 = ones([3,4])\n",
        "A43 = ones([4,3])\n",
        "\n",
        "\n",
        "b0 = multiply(A0,A0)\n",
        "print(sessionTF.run(b0))\n",
        "print()\n",
        "\n",
        "b31 = multiply(A31,A31)\n",
        "print(sessionTF.run(b31))\n",
        "print()\n",
        "\n",
        "b4334 = matmul(A43, A34)\n",
        "print(sessionTF.run(b4334))\n",
        "print()"
      ],
      "execution_count": 0,
      "outputs": [
        {
          "output_type": "stream",
          "text": [
            "[1.]\n",
            "\n",
            "[[1.]\n",
            " [1.]\n",
            " [1.]]\n",
            "\n",
            "[[3. 3. 3. 3.]\n",
            " [3. 3. 3. 3.]\n",
            " [3. 3. 3. 3.]\n",
            " [3. 3. 3. 3.]]\n",
            "\n"
          ],
          "name": "stdout"
        }
      ]
    },
    {
      "cell_type": "markdown",
      "metadata": {
        "id": "Cbu91zEiUkt_",
        "colab_type": "text"
      },
      "source": [
        "#### Reduced Sum Operator - reduce_sum()\n",
        "\n",
        "\n",
        "\n",
        "*   Reduce_sum() operator sums over the dimensions of a tensor\n",
        "*   reduce_sum(A) - sums over all dimensions of matrix A\n",
        "*   reduce_sum(A,i) - sums over dimensions of i on matrix A\n",
        "\n",
        "\n"
      ]
    },
    {
      "cell_type": "code",
      "metadata": {
        "id": "LH-uUuuhGQcy",
        "colab_type": "code",
        "outputId": "c55f2306-4c95-43be-e92a-fc06f3bc2f45",
        "colab": {
          "base_uri": "https://localhost:8080/",
          "height": 136
        }
      },
      "source": [
        "#Example for reduce_sum\n",
        "\n",
        "from tensorflow import ones, reduce_sum, Session\n",
        "\n",
        "A0 = ones([2,3,4]) # 2x3x4 Tensor containing ones\n",
        "\n",
        "sessionTF = Session()\n",
        "\n",
        "print(sessionTF.run(A0))"
      ],
      "execution_count": 0,
      "outputs": [
        {
          "output_type": "stream",
          "text": [
            "[[[1. 1. 1. 1.]\n",
            "  [1. 1. 1. 1.]\n",
            "  [1. 1. 1. 1.]]\n",
            "\n",
            " [[1. 1. 1. 1.]\n",
            "  [1. 1. 1. 1.]\n",
            "  [1. 1. 1. 1.]]]\n"
          ],
          "name": "stdout"
        }
      ]
    },
    {
      "cell_type": "code",
      "metadata": {
        "id": "LIUSoRLYCTgM",
        "colab_type": "code",
        "outputId": "a06f2383-94c5-4794-e87b-2d783f9b0f5d",
        "colab": {
          "base_uri": "https://localhost:8080/",
          "height": 34
        }
      },
      "source": [
        "sessionTF.run(A0[1][2][1])\n"
      ],
      "execution_count": 0,
      "outputs": [
        {
          "output_type": "execute_result",
          "data": {
            "text/plain": [
              "1.0"
            ]
          },
          "metadata": {
            "tags": []
          },
          "execution_count": 31
        }
      ]
    },
    {
      "cell_type": "code",
      "metadata": {
        "id": "anDCAQ0ebOq_",
        "colab_type": "code",
        "outputId": "bd40c472-97ba-4e51-b461-acbbc84e1154",
        "colab": {
          "base_uri": "https://localhost:8080/",
          "height": 34
        }
      },
      "source": [
        "B0 = reduce_sum(A0)\n",
        "\n",
        "print(sessionTF.run(B0))"
      ],
      "execution_count": 0,
      "outputs": [
        {
          "output_type": "stream",
          "text": [
            "24.0\n"
          ],
          "name": "stdout"
        }
      ]
    },
    {
      "cell_type": "code",
      "metadata": {
        "id": "xDx7LDHucLOF",
        "colab_type": "code",
        "outputId": "9d459bb6-56dc-493e-dd97-2d43dcdd47d2",
        "colab": {
          "base_uri": "https://localhost:8080/",
          "height": 68
        }
      },
      "source": [
        "B1 = reduce_sum(A0,0)\n",
        "\n",
        "print(sessionTF.run(B1))"
      ],
      "execution_count": 0,
      "outputs": [
        {
          "output_type": "stream",
          "text": [
            "[[2. 2. 2. 2.]\n",
            " [2. 2. 2. 2.]\n",
            " [2. 2. 2. 2.]]\n"
          ],
          "name": "stdout"
        }
      ]
    },
    {
      "cell_type": "code",
      "metadata": {
        "id": "pPflhWbTdruN",
        "colab_type": "code",
        "outputId": "0d8bbf0a-0e42-45f6-de4e-55ed0024cf24",
        "colab": {
          "base_uri": "https://localhost:8080/",
          "height": 51
        }
      },
      "source": [
        "B2 = reduce_sum(A0,1)\n",
        "\n",
        "print(sessionTF.run(B2))"
      ],
      "execution_count": 0,
      "outputs": [
        {
          "output_type": "stream",
          "text": [
            "[[3. 3. 3. 3.]\n",
            " [3. 3. 3. 3.]]\n"
          ],
          "name": "stdout"
        }
      ]
    },
    {
      "cell_type": "code",
      "metadata": {
        "id": "HOMa1gA5dzml",
        "colab_type": "code",
        "outputId": "5a72eecc-5680-41aa-bd7a-16af632d02ec",
        "colab": {
          "base_uri": "https://localhost:8080/",
          "height": 51
        }
      },
      "source": [
        "B3 = reduce_sum(A0,2)\n",
        "\n",
        "print(sessionTF.run(B3))"
      ],
      "execution_count": 0,
      "outputs": [
        {
          "output_type": "stream",
          "text": [
            "[[4. 4. 4.]\n",
            " [4. 4. 4.]]\n"
          ],
          "name": "stdout"
        }
      ]
    },
    {
      "cell_type": "markdown",
      "metadata": {
        "id": "0KCuQ5BvK4Kg",
        "colab_type": "text"
      },
      "source": [
        "### Overview of advanced operations\n",
        "\n",
        "\n",
        "\n",
        "*   gradient() - Computes slope of a function\n",
        "*   reshape() - Reshapes a tensor\n",
        "*   random() - Populates tensor with entries drawn from a probability distribution\n"
      ]
    },
    {
      "cell_type": "markdown",
      "metadata": {
        "id": "K6T-fYQ-fCVU",
        "colab_type": "text"
      },
      "source": [
        "### Gradient - Finding the optimum\n",
        "\n",
        "##### Find optimum of a function \n",
        "  -  Minimum:  Lowest value of a loss function\n",
        "  -  Maximum: Highest value of objective function\n",
        "* Optimal - gradinet = 0 \n",
        "* Minimum - gradient < 0\n",
        "* maximum - gradient > 0 "
      ]
    },
    {
      "cell_type": "code",
      "metadata": {
        "id": "1xu7b8iyKz5I",
        "colab_type": "code",
        "outputId": "53f67040-d63f-4582-b879-5fb09c75182b",
        "colab": {
          "base_uri": "https://localhost:8080/",
          "height": 34
        }
      },
      "source": [
        "import tensorflow as tf\n",
        "\n",
        "# define x\n",
        "\n",
        "x = tf.constant(-1.0)\n",
        "\n",
        "init = tf.global_variables_initializer()\n",
        "\n",
        "\n",
        "sessionTF = tf.Session()\n",
        "\n",
        "\n",
        "sessionTF.run(init)\n",
        "\n",
        "sessionTF.run(x)"
      ],
      "execution_count": 0,
      "outputs": [
        {
          "output_type": "execute_result",
          "data": {
            "text/plain": [
              "-1.0"
            ]
          },
          "metadata": {
            "tags": []
          },
          "execution_count": 28
        }
      ]
    },
    {
      "cell_type": "code",
      "metadata": {
        "id": "sGsTCB5df2X1",
        "colab_type": "code",
        "outputId": "733d425a-ee37-4c16-bc2a-99fe53527f6a",
        "colab": {
          "base_uri": "https://localhost:8080/",
          "height": 34
        }
      },
      "source": [
        "# define y\n",
        "\n",
        "with tf.GradientTape(persistent = True) as tape:\n",
        "  tape.watch(x)\n",
        "  y = tf.multiply(x,x)\n",
        "  print(sessionTF.run(y))"
      ],
      "execution_count": 0,
      "outputs": [
        {
          "output_type": "stream",
          "text": [
            "1.0\n"
          ],
          "name": "stdout"
        }
      ]
    },
    {
      "cell_type": "code",
      "metadata": {
        "id": "3GKkc-OQf2sn",
        "colab_type": "code",
        "outputId": "0d4ac2aa-6072-4c24-c2b5-3c3b8a7c55e1",
        "colab": {
          "base_uri": "https://localhost:8080/",
          "height": 34
        }
      },
      "source": [
        "# Evaluate gradient of y at x = -1\n",
        "\n",
        "g = tape.gradient(y,x)\n",
        "\n",
        "print(sessionTF.run(g))"
      ],
      "execution_count": 0,
      "outputs": [
        {
          "output_type": "stream",
          "text": [
            "-2.0\n"
          ],
          "name": "stdout"
        }
      ]
    },
    {
      "cell_type": "markdown",
      "metadata": {
        "id": "CTSw0iMqvnVC",
        "colab_type": "text"
      },
      "source": [
        "### Random and Reshape \n",
        "\n",
        "reshape the image to fit the the algorithm\n"
      ]
    },
    {
      "cell_type": "code",
      "metadata": {
        "id": "4oaaWyQuE0Ye",
        "colab_type": "code",
        "outputId": "4c263c26-6716-46ff-8427-d1125701358d",
        "colab": {
          "base_uri": "https://localhost:8080/",
          "height": 102
        }
      },
      "source": [
        "# Example for random and reshape\n",
        "\n",
        "#Gray image example\n",
        "\n",
        "import tensorflow as tf\n",
        "\n",
        "gray = tf.random.uniform([2,2], maxval = 255, dtype = 'int32')\n",
        "\n",
        "#Reshape\n",
        "\n",
        "gray = tf.reshape(gray, [2*2,1])\n",
        "\n",
        "print(gray)\n",
        "\n",
        "print(tf.Session().run(gray))"
      ],
      "execution_count": 0,
      "outputs": [
        {
          "output_type": "stream",
          "text": [
            "Tensor(\"Reshape_3:0\", shape=(4, 1), dtype=int32)\n",
            "[[ 69]\n",
            " [148]\n",
            " [ 20]\n",
            " [128]]\n"
          ],
          "name": "stdout"
        }
      ]
    },
    {
      "cell_type": "code",
      "metadata": {
        "id": "aY7TCoH7Jy7w",
        "colab_type": "code",
        "outputId": "85c7f68f-4cb9-480f-dd9b-66743a2ebfd4",
        "colab": {
          "base_uri": "https://localhost:8080/",
          "height": 102
        }
      },
      "source": [
        "#Color (RGB) image example\n",
        "\n",
        "import tensorflow as tf\n",
        "\n",
        "color = tf.random.uniform([2,2,3], maxval = 255, dtype = 'int32')\n",
        "\n",
        "#Reshape\n",
        "\n",
        "color = tf.reshape(color, [2*2,3])\n",
        "\n",
        "print(color)\n",
        "\n",
        "print(tf.Session().run(color))"
      ],
      "execution_count": 0,
      "outputs": [
        {
          "output_type": "stream",
          "text": [
            "Tensor(\"Reshape_5:0\", shape=(4, 3), dtype=int32)\n",
            "[[167 178 209]\n",
            " [229  17  52]\n",
            " [ 77 108 232]\n",
            " [ 22 145  55]]\n"
          ],
          "name": "stdout"
        }
      ]
    },
    {
      "cell_type": "markdown",
      "metadata": {
        "id": "VJjJl1fdOgr9",
        "colab_type": "text"
      },
      "source": [
        "## Importing data "
      ]
    },
    {
      "cell_type": "markdown",
      "metadata": {
        "id": "OoooAHDBOlmU",
        "colab_type": "text"
      },
      "source": [
        "### Importing data using pandas"
      ]
    },
    {
      "cell_type": "code",
      "metadata": {
        "id": "bPiPXcyrOf0e",
        "colab_type": "code",
        "colab": {
          "base_uri": "https://localhost:8080/",
          "height": 244
        },
        "outputId": "4623b458-4b5e-4c6b-8b02-cc4c02f49318"
      },
      "source": [
        "import numpy as np\n",
        "import pandas as pd\n",
        "\n",
        "housingData = pd.read_csv('kc_house_data.csv')\n",
        "\n",
        "housingData.head()"
      ],
      "execution_count": 7,
      "outputs": [
        {
          "output_type": "execute_result",
          "data": {
            "text/html": [
              "<div>\n",
              "<style scoped>\n",
              "    .dataframe tbody tr th:only-of-type {\n",
              "        vertical-align: middle;\n",
              "    }\n",
              "\n",
              "    .dataframe tbody tr th {\n",
              "        vertical-align: top;\n",
              "    }\n",
              "\n",
              "    .dataframe thead th {\n",
              "        text-align: right;\n",
              "    }\n",
              "</style>\n",
              "<table border=\"1\" class=\"dataframe\">\n",
              "  <thead>\n",
              "    <tr style=\"text-align: right;\">\n",
              "      <th></th>\n",
              "      <th>id</th>\n",
              "      <th>date</th>\n",
              "      <th>price</th>\n",
              "      <th>bedrooms</th>\n",
              "      <th>bathrooms</th>\n",
              "      <th>sqft_living</th>\n",
              "      <th>sqft_lot</th>\n",
              "      <th>floors</th>\n",
              "      <th>waterfront</th>\n",
              "      <th>view</th>\n",
              "      <th>condition</th>\n",
              "      <th>grade</th>\n",
              "      <th>sqft_above</th>\n",
              "      <th>sqft_basement</th>\n",
              "      <th>yr_built</th>\n",
              "      <th>yr_renovated</th>\n",
              "      <th>zipcode</th>\n",
              "      <th>lat</th>\n",
              "      <th>long</th>\n",
              "      <th>sqft_living15</th>\n",
              "      <th>sqft_lot15</th>\n",
              "    </tr>\n",
              "  </thead>\n",
              "  <tbody>\n",
              "    <tr>\n",
              "      <th>0</th>\n",
              "      <td>7129300520</td>\n",
              "      <td>20141013T000000</td>\n",
              "      <td>221900.0</td>\n",
              "      <td>3</td>\n",
              "      <td>1.00</td>\n",
              "      <td>1180</td>\n",
              "      <td>5650</td>\n",
              "      <td>1.0</td>\n",
              "      <td>0</td>\n",
              "      <td>0</td>\n",
              "      <td>3</td>\n",
              "      <td>7</td>\n",
              "      <td>1180</td>\n",
              "      <td>0</td>\n",
              "      <td>1955</td>\n",
              "      <td>0</td>\n",
              "      <td>98178</td>\n",
              "      <td>47.5112</td>\n",
              "      <td>-122.257</td>\n",
              "      <td>1340</td>\n",
              "      <td>5650</td>\n",
              "    </tr>\n",
              "    <tr>\n",
              "      <th>1</th>\n",
              "      <td>6414100192</td>\n",
              "      <td>20141209T000000</td>\n",
              "      <td>538000.0</td>\n",
              "      <td>3</td>\n",
              "      <td>2.25</td>\n",
              "      <td>2570</td>\n",
              "      <td>7242</td>\n",
              "      <td>2.0</td>\n",
              "      <td>0</td>\n",
              "      <td>0</td>\n",
              "      <td>3</td>\n",
              "      <td>7</td>\n",
              "      <td>2170</td>\n",
              "      <td>400</td>\n",
              "      <td>1951</td>\n",
              "      <td>1991</td>\n",
              "      <td>98125</td>\n",
              "      <td>47.7210</td>\n",
              "      <td>-122.319</td>\n",
              "      <td>1690</td>\n",
              "      <td>7639</td>\n",
              "    </tr>\n",
              "    <tr>\n",
              "      <th>2</th>\n",
              "      <td>5631500400</td>\n",
              "      <td>20150225T000000</td>\n",
              "      <td>180000.0</td>\n",
              "      <td>2</td>\n",
              "      <td>1.00</td>\n",
              "      <td>770</td>\n",
              "      <td>10000</td>\n",
              "      <td>1.0</td>\n",
              "      <td>0</td>\n",
              "      <td>0</td>\n",
              "      <td>3</td>\n",
              "      <td>6</td>\n",
              "      <td>770</td>\n",
              "      <td>0</td>\n",
              "      <td>1933</td>\n",
              "      <td>0</td>\n",
              "      <td>98028</td>\n",
              "      <td>47.7379</td>\n",
              "      <td>-122.233</td>\n",
              "      <td>2720</td>\n",
              "      <td>8062</td>\n",
              "    </tr>\n",
              "    <tr>\n",
              "      <th>3</th>\n",
              "      <td>2487200875</td>\n",
              "      <td>20141209T000000</td>\n",
              "      <td>604000.0</td>\n",
              "      <td>4</td>\n",
              "      <td>3.00</td>\n",
              "      <td>1960</td>\n",
              "      <td>5000</td>\n",
              "      <td>1.0</td>\n",
              "      <td>0</td>\n",
              "      <td>0</td>\n",
              "      <td>5</td>\n",
              "      <td>7</td>\n",
              "      <td>1050</td>\n",
              "      <td>910</td>\n",
              "      <td>1965</td>\n",
              "      <td>0</td>\n",
              "      <td>98136</td>\n",
              "      <td>47.5208</td>\n",
              "      <td>-122.393</td>\n",
              "      <td>1360</td>\n",
              "      <td>5000</td>\n",
              "    </tr>\n",
              "    <tr>\n",
              "      <th>4</th>\n",
              "      <td>1954400510</td>\n",
              "      <td>20150218T000000</td>\n",
              "      <td>510000.0</td>\n",
              "      <td>3</td>\n",
              "      <td>2.00</td>\n",
              "      <td>1680</td>\n",
              "      <td>8080</td>\n",
              "      <td>1.0</td>\n",
              "      <td>0</td>\n",
              "      <td>0</td>\n",
              "      <td>3</td>\n",
              "      <td>8</td>\n",
              "      <td>1680</td>\n",
              "      <td>0</td>\n",
              "      <td>1987</td>\n",
              "      <td>0</td>\n",
              "      <td>98074</td>\n",
              "      <td>47.6168</td>\n",
              "      <td>-122.045</td>\n",
              "      <td>1800</td>\n",
              "      <td>7503</td>\n",
              "    </tr>\n",
              "  </tbody>\n",
              "</table>\n",
              "</div>"
            ],
            "text/plain": [
              "           id             date     price  ...     long  sqft_living15  sqft_lot15\n",
              "0  7129300520  20141013T000000  221900.0  ... -122.257           1340        5650\n",
              "1  6414100192  20141209T000000  538000.0  ... -122.319           1690        7639\n",
              "2  5631500400  20150225T000000  180000.0  ... -122.233           2720        8062\n",
              "3  2487200875  20141209T000000  604000.0  ... -122.393           1360        5000\n",
              "4  1954400510  20150218T000000  510000.0  ... -122.045           1800        7503\n",
              "\n",
              "[5 rows x 21 columns]"
            ]
          },
          "metadata": {
            "tags": []
          },
          "execution_count": 7
        }
      ]
    }
  ]
}